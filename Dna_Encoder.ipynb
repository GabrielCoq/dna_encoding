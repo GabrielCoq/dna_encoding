{
  "nbformat": 4,
  "nbformat_minor": 0,
  "metadata": {
    "colab": {
      "provenance": []
    },
    "kernelspec": {
      "name": "python3",
      "display_name": "Python 3"
    },
    "language_info": {
      "name": "python"
    }
  },
  "cells": [
    {
      "cell_type": "markdown",
      "source": [
        "<h1>Dna Encoding</h1>\n"
      ],
      "metadata": {
        "id": "_t3UEDMZhBaQ"
      }
    },
    {
      "cell_type": "markdown",
      "source": [
        "There are 3 ways to use this encoder:\n",
        "\n",
        "\n",
        "*   If you only want to convert a string to dna sequence, type TODNA;\n",
        "*   If you only want to convert Dna sequence to string, type TOTXT;\n",
        "*   If you want to convert a string to Dna and then The created sequence to string back, use BOTH.\n",
        "\n",
        "Keep in mind this project is not intended for research or production work."
      ],
      "metadata": {
        "id": "Hf_AhzP2hUHU"
      }
    },
    {
      "cell_type": "code",
      "execution_count": 1,
      "metadata": {
        "colab": {
          "base_uri": "https://localhost:8080/",
          "height": 526
        },
        "id": "CBXVy_e7g9AK",
        "outputId": "84fd1c24-7430-4b12-cc07-4c01ad7b00ef"
      },
      "outputs": [
        {
          "output_type": "stream",
          "name": "stdout",
          "text": [
            "wich mode ? TODNA, TOTXT or BOTH ? TODNA\n",
            "your text : hello world\n",
            "CGGACGCCCGTACGTACGTTAGAACTCTCGTTCTAGCGTACGCA\n",
            "wich mode ? TODNA, TOTXT or BOTH ? TOTXT\n",
            "your dna : CGGACGCCCGTACGTACGTTAGAACTCTCGTTCTAGCGTACGCA\n",
            "hello world\n",
            "wich mode ? TODNA, TOTXT or BOTH ? both\n",
            "your text : hello world ù^$*\n",
            "hello world ù^$*\n"
          ]
        },
        {
          "output_type": "error",
          "ename": "KeyboardInterrupt",
          "evalue": "Interrupted by user",
          "traceback": [
            "\u001b[0;31m---------------------------------------------------------------------------\u001b[0m",
            "\u001b[0;31mKeyboardInterrupt\u001b[0m                         Traceback (most recent call last)",
            "\u001b[0;32m<ipython-input-1-685202f2ccfa>\u001b[0m in \u001b[0;36m<cell line: 82>\u001b[0;34m()\u001b[0m\n\u001b[1;32m     81\u001b[0m \u001b[0;34m\u001b[0m\u001b[0m\n\u001b[1;32m     82\u001b[0m \u001b[0;32mwhile\u001b[0m \u001b[0;36m1\u001b[0m\u001b[0;34m:\u001b[0m\u001b[0;34m\u001b[0m\u001b[0;34m\u001b[0m\u001b[0m\n\u001b[0;32m---> 83\u001b[0;31m   \u001b[0mmode\u001b[0m \u001b[0;34m=\u001b[0m \u001b[0minput\u001b[0m\u001b[0;34m(\u001b[0m\u001b[0;34m\"wich mode ? TODNA, TOTXT or BOTH ? \"\u001b[0m\u001b[0;34m)\u001b[0m\u001b[0;34m\u001b[0m\u001b[0;34m\u001b[0m\u001b[0m\n\u001b[0m\u001b[1;32m     84\u001b[0m   \u001b[0;32mif\u001b[0m \u001b[0mmode\u001b[0m\u001b[0;34m.\u001b[0m\u001b[0mupper\u001b[0m\u001b[0;34m(\u001b[0m\u001b[0;34m)\u001b[0m \u001b[0;34m==\u001b[0m \u001b[0;34m\"TODNA\"\u001b[0m\u001b[0;34m:\u001b[0m\u001b[0;34m\u001b[0m\u001b[0;34m\u001b[0m\u001b[0m\n\u001b[1;32m     85\u001b[0m     \u001b[0mtxt_in\u001b[0m \u001b[0;34m=\u001b[0m \u001b[0minput\u001b[0m\u001b[0;34m(\u001b[0m\u001b[0;34m\"your text : \"\u001b[0m\u001b[0;34m)\u001b[0m\u001b[0;34m\u001b[0m\u001b[0;34m\u001b[0m\u001b[0m\n",
            "\u001b[0;32m/usr/local/lib/python3.10/dist-packages/ipykernel/kernelbase.py\u001b[0m in \u001b[0;36mraw_input\u001b[0;34m(self, prompt)\u001b[0m\n\u001b[1;32m    849\u001b[0m                 \u001b[0;34m\"raw_input was called, but this frontend does not support input requests.\"\u001b[0m\u001b[0;34m\u001b[0m\u001b[0;34m\u001b[0m\u001b[0m\n\u001b[1;32m    850\u001b[0m             )\n\u001b[0;32m--> 851\u001b[0;31m         return self._input_request(str(prompt),\n\u001b[0m\u001b[1;32m    852\u001b[0m             \u001b[0mself\u001b[0m\u001b[0;34m.\u001b[0m\u001b[0m_parent_ident\u001b[0m\u001b[0;34m,\u001b[0m\u001b[0;34m\u001b[0m\u001b[0;34m\u001b[0m\u001b[0m\n\u001b[1;32m    853\u001b[0m             \u001b[0mself\u001b[0m\u001b[0;34m.\u001b[0m\u001b[0m_parent_header\u001b[0m\u001b[0;34m,\u001b[0m\u001b[0;34m\u001b[0m\u001b[0;34m\u001b[0m\u001b[0m\n",
            "\u001b[0;32m/usr/local/lib/python3.10/dist-packages/ipykernel/kernelbase.py\u001b[0m in \u001b[0;36m_input_request\u001b[0;34m(self, prompt, ident, parent, password)\u001b[0m\n\u001b[1;32m    893\u001b[0m             \u001b[0;32mexcept\u001b[0m \u001b[0mKeyboardInterrupt\u001b[0m\u001b[0;34m:\u001b[0m\u001b[0;34m\u001b[0m\u001b[0;34m\u001b[0m\u001b[0m\n\u001b[1;32m    894\u001b[0m                 \u001b[0;31m# re-raise KeyboardInterrupt, to truncate traceback\u001b[0m\u001b[0;34m\u001b[0m\u001b[0;34m\u001b[0m\u001b[0m\n\u001b[0;32m--> 895\u001b[0;31m                 \u001b[0;32mraise\u001b[0m \u001b[0mKeyboardInterrupt\u001b[0m\u001b[0;34m(\u001b[0m\u001b[0;34m\"Interrupted by user\"\u001b[0m\u001b[0;34m)\u001b[0m \u001b[0;32mfrom\u001b[0m \u001b[0;32mNone\u001b[0m\u001b[0;34m\u001b[0m\u001b[0;34m\u001b[0m\u001b[0m\n\u001b[0m\u001b[1;32m    896\u001b[0m             \u001b[0;32mexcept\u001b[0m \u001b[0mException\u001b[0m \u001b[0;32mas\u001b[0m \u001b[0me\u001b[0m\u001b[0;34m:\u001b[0m\u001b[0;34m\u001b[0m\u001b[0;34m\u001b[0m\u001b[0m\n\u001b[1;32m    897\u001b[0m                 \u001b[0mself\u001b[0m\u001b[0;34m.\u001b[0m\u001b[0mlog\u001b[0m\u001b[0;34m.\u001b[0m\u001b[0mwarning\u001b[0m\u001b[0;34m(\u001b[0m\u001b[0;34m\"Invalid Message:\"\u001b[0m\u001b[0;34m,\u001b[0m \u001b[0mexc_info\u001b[0m\u001b[0;34m=\u001b[0m\u001b[0;32mTrue\u001b[0m\u001b[0;34m)\u001b[0m\u001b[0;34m\u001b[0m\u001b[0;34m\u001b[0m\u001b[0m\n",
            "\u001b[0;31mKeyboardInterrupt\u001b[0m: Interrupted by user"
          ]
        }
      ],
      "source": [
        "# A --> 00\n",
        "# T --> 11\n",
        "# c --> 01\n",
        "# G --> 10\n",
        "\n",
        "class TO_DNA:\n",
        "\n",
        "    def bin_to_dna(self,Bin):\n",
        "        Dna = ''\n",
        "        for i in range(0, len(Bin), 2):\n",
        "            if Bin[i] != '0' and Bin[i] != '1':\n",
        "                return False\n",
        "            if Bin[i + 1] != '0' and Bin[i + 1] != '1':\n",
        "                return False\n",
        "            if Bin[i] == '0':\n",
        "                if Bin[i + 1] == '1':\n",
        "                    Dna = Dna + 'C'\n",
        "                if Bin[i + 1] == '0':\n",
        "                    Dna = Dna + 'A'\n",
        "            if Bin[i] == '1':\n",
        "                if Bin[i + 1] == '1':\n",
        "                    Dna = Dna + 'T'\n",
        "                if Bin[i + 1] == '0':\n",
        "                    Dna = Dna + 'G'\n",
        "        return Dna\n",
        "\n",
        "    def txt_to_bin(self,txt):\n",
        "        binaire = ''\n",
        "        binary = ''\n",
        "        for lettre in txt:\n",
        "            b = str(bin(ord(lettre)))\n",
        "            for i in range(2, len(b)):\n",
        "                binary = binary + b[i]\n",
        "            binaire = binaire + binary\n",
        "        for i in range(8):\n",
        "            if len(binaire) % 8 != 0:\n",
        "                binaire = '0' + binaire\n",
        "        return binaire\n",
        "\n",
        "    def txt_to_dna(self,txt):\n",
        "        Dna = ''\n",
        "        bin = 0\n",
        "        for elt in txt:\n",
        "            bin = self.txt_to_bin(elt)\n",
        "            Dna = Dna + self.bin_to_dna(bin)\n",
        "        return Dna\n",
        "\n",
        "\n",
        "class To_Txt:\n",
        "\n",
        "    def dna_to_txt(self,Dna):\n",
        "        bin = self.dna_to_bin(Dna)\n",
        "        txt = self.bin_to_txt(bin)\n",
        "        return txt\n",
        "\n",
        "    def dna_to_bin(self,Dna):\n",
        "        bin = ''\n",
        "        for i in range(len(Dna)):\n",
        "            if Dna[i] == 'A':\n",
        "                bin = bin + '00'\n",
        "            elif Dna[i] == 'T':\n",
        "                bin = bin + '11'\n",
        "            elif Dna[i] == 'C':\n",
        "                bin = bin + '01'\n",
        "            elif Dna[i] == 'G':\n",
        "                bin = bin + '10'\n",
        "        return bin\n",
        "\n",
        "    def bin_to_txt(self,Bin):\n",
        "        txt = ''\n",
        "        cpt = 0\n",
        "        for i in range(0, len(Bin) // 8):\n",
        "            bin = '0b' + Bin[cpt:8 + cpt]\n",
        "            ord = int(bin, 2)\n",
        "            txt += chr(ord)\n",
        "            cpt += 8\n",
        "        return txt\n",
        "\n",
        "ToDna = TO_DNA()\n",
        "ToTxt = To_Txt()\n",
        "\n",
        "while 1:\n",
        "  mode = input(\"wich mode ? TODNA, TOTXT or BOTH ? \")\n",
        "  if mode.upper() == \"TODNA\":\n",
        "    txt_in = input(\"your text : \")\n",
        "    dna_out = ToDna.txt_to_dna(txt_in)\n",
        "    print(dna_out)\n",
        "  elif mode.upper() == \"TOTXT\":\n",
        "    dna = input(\"your dna : \")\n",
        "    txt_fin = ToTxt.dna_to_txt(dna)\n",
        "    print(txt_fin)\n",
        "  elif mode.upper() == \"BOTH\":\n",
        "    txt_in = input(\"your text : \")\n",
        "    dna_out = ToDna.txt_to_dna(txt_in)\n",
        "    txt_fin = ToTxt.dna_to_txt(dna_out)\n",
        "    print(txt_fin)\n",
        "  else:\n",
        "    print(\"error\")"
      ]
    },
    {
      "cell_type": "markdown",
      "source": [
        "MIT License\n",
        "\n",
        "Copyright (c) 2024 Gabriel Coquillet\n",
        "\n",
        "Permission is hereby granted, free of charge, to any person obtaining a copy\n",
        "of this software and associated documentation files (the \"Software\"), to deal\n",
        "in the Software without restriction, including without limitation the rights\n",
        "to use, copy, modify, merge, publish, distribute, sublicense, and/or sell\n",
        "copies of the Software, and to permit persons to whom the Software is\n",
        "furnished to do so, subject to the following conditions:\n",
        "\n",
        "The above copyright notice and this permission notice shall be included in all\n",
        "copies or substantial portions of the Software.\n",
        "\n",
        "THE SOFTWARE IS PROVIDED \"AS IS\", WITHOUT WARRANTY OF ANY KIND, EXPRESS OR\n",
        "IMPLIED, INCLUDING BUT NOT LIMITED TO THE WARRANTIES OF MERCHANTABILITY,\n",
        "FITNESS FOR A PARTICULAR PURPOSE AND NONINFRINGEMENT. IN NO EVENT SHALL THE\n",
        "AUTHORS OR COPYRIGHT HOLDERS BE LIABLE FOR ANY CLAIM, DAMAGES OR OTHER\n",
        "LIABILITY, WHETHER IN AN ACTION OF CONTRACT, TORT OR OTHERWISE, ARISING FROM,\n",
        "OUT OF OR IN CONNECTION WITH THE SOFTWARE OR THE USE OR OTHER DEALINGS IN THE\n",
        "SOFTWARE."
      ],
      "metadata": {
        "id": "eGXTNohQijBs"
      }
    }
  ]
}